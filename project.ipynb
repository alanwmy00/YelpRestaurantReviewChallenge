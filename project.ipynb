{
 "cells": [
  {
   "cell_type": "code",
   "execution_count": 1,
   "metadata": {},
   "outputs": [],
   "source": [
    "import pandas as pd\n",
    "import numpy as np"
   ]
  },
  {
   "cell_type": "code",
   "execution_count": 2,
   "metadata": {},
   "outputs": [],
   "source": [
    "data = pd.read_csv(\"Data_Final.csv\")"
   ]
  },
  {
   "cell_type": "code",
   "execution_count": 9,
   "metadata": {},
   "outputs": [
    {
     "data": {
      "text/plain": [
       "(53845, 18)"
      ]
     },
     "execution_count": 9,
     "metadata": {},
     "output_type": "execute_result"
    }
   ],
   "source": [
    "data.shape"
   ]
  },
  {
   "cell_type": "code",
   "execution_count": 8,
   "metadata": {},
   "outputs": [
    {
     "data": {
      "text/plain": [
       "array(['Goleta', 'Santa Barbara', 'Carpinteria', 'Montecito',\n",
       "       'Isla Vista', 'Santa Barbara ', 'Truckee', 'Summerland',\n",
       "       'Port Hueneme', 'West Hill', 'Los Angeles', 'Mission Canyon',\n",
       "       'Sparks', 'Kings Beach', 'Cerritos', 'Santa Clara', 'Reno',\n",
       "       'Real Goleta', 'Aliso Viejo', 'Santa Barbara & Ventura Counties',\n",
       "       'South Lake Tahoe', 'Santa Barbra', 'Santa  Barbara', 'Salinas',\n",
       "       'Santa Maria'], dtype=object)"
      ]
     },
     "execution_count": 8,
     "metadata": {},
     "output_type": "execute_result"
    }
   ],
   "source": [
    "data.City.unique()"
   ]
  },
  {
   "cell_type": "code",
   "execution_count": 7,
   "metadata": {},
   "outputs": [
    {
     "data": {
      "text/html": [
       "<div>\n",
       "<style scoped>\n",
       "    .dataframe tbody tr th:only-of-type {\n",
       "        vertical-align: middle;\n",
       "    }\n",
       "\n",
       "    .dataframe tbody tr th {\n",
       "        vertical-align: top;\n",
       "    }\n",
       "\n",
       "    .dataframe thead tr th {\n",
       "        text-align: left;\n",
       "    }\n",
       "\n",
       "    .dataframe thead tr:last-of-type th {\n",
       "        text-align: right;\n",
       "    }\n",
       "</style>\n",
       "<table border=\"1\" class=\"dataframe\">\n",
       "  <thead>\n",
       "    <tr>\n",
       "      <th></th>\n",
       "      <th colspan=\"2\" halign=\"left\">Star</th>\n",
       "    </tr>\n",
       "    <tr>\n",
       "      <th></th>\n",
       "      <th>len</th>\n",
       "      <th>mean</th>\n",
       "    </tr>\n",
       "    <tr>\n",
       "      <th>City</th>\n",
       "      <th></th>\n",
       "      <th></th>\n",
       "    </tr>\n",
       "  </thead>\n",
       "  <tbody>\n",
       "    <tr>\n",
       "      <th>Aliso Viejo</th>\n",
       "      <td>1</td>\n",
       "      <td>5.000000</td>\n",
       "    </tr>\n",
       "    <tr>\n",
       "      <th>Carpinteria</th>\n",
       "      <td>2557</td>\n",
       "      <td>3.958936</td>\n",
       "    </tr>\n",
       "    <tr>\n",
       "      <th>Cerritos</th>\n",
       "      <td>10</td>\n",
       "      <td>3.400000</td>\n",
       "    </tr>\n",
       "    <tr>\n",
       "      <th>Goleta</th>\n",
       "      <td>6009</td>\n",
       "      <td>3.863538</td>\n",
       "    </tr>\n",
       "    <tr>\n",
       "      <th>Isla Vista</th>\n",
       "      <td>1425</td>\n",
       "      <td>3.849123</td>\n",
       "    </tr>\n",
       "    <tr>\n",
       "      <th>Kings Beach</th>\n",
       "      <td>1</td>\n",
       "      <td>5.000000</td>\n",
       "    </tr>\n",
       "    <tr>\n",
       "      <th>Los Angeles</th>\n",
       "      <td>3</td>\n",
       "      <td>5.000000</td>\n",
       "    </tr>\n",
       "    <tr>\n",
       "      <th>Mission Canyon</th>\n",
       "      <td>10</td>\n",
       "      <td>4.400000</td>\n",
       "    </tr>\n",
       "    <tr>\n",
       "      <th>Montecito</th>\n",
       "      <td>848</td>\n",
       "      <td>4.186321</td>\n",
       "    </tr>\n",
       "    <tr>\n",
       "      <th>Port Hueneme</th>\n",
       "      <td>1</td>\n",
       "      <td>3.000000</td>\n",
       "    </tr>\n",
       "    <tr>\n",
       "      <th>Real Goleta</th>\n",
       "      <td>4</td>\n",
       "      <td>2.750000</td>\n",
       "    </tr>\n",
       "    <tr>\n",
       "      <th>Reno</th>\n",
       "      <td>1</td>\n",
       "      <td>5.000000</td>\n",
       "    </tr>\n",
       "    <tr>\n",
       "      <th>Salinas</th>\n",
       "      <td>2</td>\n",
       "      <td>4.000000</td>\n",
       "    </tr>\n",
       "    <tr>\n",
       "      <th>Santa  Barbara</th>\n",
       "      <td>20</td>\n",
       "      <td>4.200000</td>\n",
       "    </tr>\n",
       "    <tr>\n",
       "      <th>Santa Barbara</th>\n",
       "      <td>42501</td>\n",
       "      <td>4.029905</td>\n",
       "    </tr>\n",
       "    <tr>\n",
       "      <th>Santa Barbara</th>\n",
       "      <td>6</td>\n",
       "      <td>4.833333</td>\n",
       "    </tr>\n",
       "    <tr>\n",
       "      <th>Santa Barbara &amp; Ventura Counties</th>\n",
       "      <td>1</td>\n",
       "      <td>5.000000</td>\n",
       "    </tr>\n",
       "    <tr>\n",
       "      <th>Santa Barbra</th>\n",
       "      <td>4</td>\n",
       "      <td>3.750000</td>\n",
       "    </tr>\n",
       "    <tr>\n",
       "      <th>Santa Clara</th>\n",
       "      <td>15</td>\n",
       "      <td>2.400000</td>\n",
       "    </tr>\n",
       "    <tr>\n",
       "      <th>Santa Maria</th>\n",
       "      <td>3</td>\n",
       "      <td>5.000000</td>\n",
       "    </tr>\n",
       "    <tr>\n",
       "      <th>South Lake Tahoe</th>\n",
       "      <td>1</td>\n",
       "      <td>5.000000</td>\n",
       "    </tr>\n",
       "    <tr>\n",
       "      <th>Sparks</th>\n",
       "      <td>2</td>\n",
       "      <td>5.000000</td>\n",
       "    </tr>\n",
       "    <tr>\n",
       "      <th>Summerland</th>\n",
       "      <td>406</td>\n",
       "      <td>4.115764</td>\n",
       "    </tr>\n",
       "    <tr>\n",
       "      <th>Truckee</th>\n",
       "      <td>13</td>\n",
       "      <td>4.461538</td>\n",
       "    </tr>\n",
       "    <tr>\n",
       "      <th>West Hill</th>\n",
       "      <td>1</td>\n",
       "      <td>5.000000</td>\n",
       "    </tr>\n",
       "  </tbody>\n",
       "</table>\n",
       "</div>"
      ],
      "text/plain": [
       "                                   Star          \n",
       "                                    len      mean\n",
       "City                                             \n",
       "Aliso Viejo                           1  5.000000\n",
       "Carpinteria                        2557  3.958936\n",
       "Cerritos                             10  3.400000\n",
       "Goleta                             6009  3.863538\n",
       "Isla Vista                         1425  3.849123\n",
       "Kings Beach                           1  5.000000\n",
       "Los Angeles                           3  5.000000\n",
       "Mission Canyon                       10  4.400000\n",
       "Montecito                           848  4.186321\n",
       "Port Hueneme                          1  3.000000\n",
       "Real Goleta                           4  2.750000\n",
       "Reno                                  1  5.000000\n",
       "Salinas                               2  4.000000\n",
       "Santa  Barbara                       20  4.200000\n",
       "Santa Barbara                     42501  4.029905\n",
       "Santa Barbara                         6  4.833333\n",
       "Santa Barbara & Ventura Counties      1  5.000000\n",
       "Santa Barbra                          4  3.750000\n",
       "Santa Clara                          15  2.400000\n",
       "Santa Maria                           3  5.000000\n",
       "South Lake Tahoe                      1  5.000000\n",
       "Sparks                                2  5.000000\n",
       "Summerland                          406  4.115764\n",
       "Truckee                              13  4.461538\n",
       "West Hill                             1  5.000000"
      ]
     },
     "execution_count": 7,
     "metadata": {},
     "output_type": "execute_result"
    }
   ],
   "source": [
    "data.groupby(\"City\").aggregate({\"Star\": [len, np.mean]})"
   ]
  },
  {
   "cell_type": "code",
   "execution_count": 17,
   "metadata": {},
   "outputs": [
    {
     "data": {
      "text/plain": [
       "Index(['Unnamed: 0', 'User_id', 'Bus_id', 'Star', 'Useful', 'Cool', 'Funny',\n",
       "       'Review', 'State', 'City', 'Bus_Ave_Star', 'User_Review_count',\n",
       "       'User_Useful_count', 'User_Funny_count', 'User_Cool_count', 'Elite',\n",
       "       'User_Fans', 'Users_Ave_Star'],\n",
       "      dtype='object')"
      ]
     },
     "execution_count": 17,
     "metadata": {},
     "output_type": "execute_result"
    }
   ],
   "source": [
    "data.columns"
   ]
  },
  {
   "cell_type": "code",
   "execution_count": 19,
   "metadata": {},
   "outputs": [
    {
     "data": {
      "text/plain": [
       "'Great burgers,fries and salad!  Burgers have a hint of salt and pepper flavor.\\n\\nThis location is very quaint. They only have outdoor seating\\n\\nFriendly staff.\\n\\nStreet parking as well as parking lot in the back.'"
      ]
     },
     "execution_count": 19,
     "metadata": {},
     "output_type": "execute_result"
    }
   ],
   "source": [
    "data.Review.iloc[0]"
   ]
  },
  {
   "cell_type": "code",
   "execution_count": null,
   "metadata": {},
   "outputs": [],
   "source": []
  }
 ],
 "metadata": {
  "kernelspec": {
   "display_name": "Python 3.10.7 64-bit",
   "language": "python",
   "name": "python3"
  },
  "language_info": {
   "codemirror_mode": {
    "name": "ipython",
    "version": 3
   },
   "file_extension": ".py",
   "mimetype": "text/x-python",
   "name": "python",
   "nbconvert_exporter": "python",
   "pygments_lexer": "ipython3",
   "version": "3.10.7"
  },
  "orig_nbformat": 4,
  "vscode": {
   "interpreter": {
    "hash": "15a3a1d02b16c5f0f7818f79310520e3bf618f6f01b420b9dd242659c73da7ae"
   }
  }
 },
 "nbformat": 4,
 "nbformat_minor": 2
}
